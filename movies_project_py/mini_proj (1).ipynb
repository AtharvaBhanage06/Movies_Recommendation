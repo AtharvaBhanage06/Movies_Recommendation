{
 "cells": [
  {
   "cell_type": "code",
   "execution_count": 6,
   "id": "c895cd1b",
   "metadata": {},
   "outputs": [],
   "source": [
    "import speech_recognition as sr\n",
    "from gtts import gTTS\n",
    "import pygame\n",
    "import os\n",
    "import time\n",
    "from movie_rec import recommend\n"
   ]
  },
  {
   "cell_type": "code",
   "execution_count": 7,
   "id": "a6800963",
   "metadata": {},
   "outputs": [],
   "source": [
    "# Function to play audio\n",
    "\n",
    "def speak(text):\n",
    "    tts = gTTS(text=text, lang='en')\n",
    "    filename = \"response.mp3\"\n",
    "    tts.save(filename)\n",
    "\n",
    "    pygame.mixer.init()\n",
    "    pygame.mixer.music.load(filename)\n",
    "    pygame.mixer.music.play()\n",
    "    \n",
    "    # Wait until the music finishes playing\n",
    "    while pygame.mixer.music.get_busy():\n",
    "        time.sleep(0.5)\n",
    "\n",
    "    # Ensure mixer is completely done\n",
    "    time.sleep(1)\n",
    "    pygame.mixer.music.unload()  # Unload the file before deleting\n",
    "    os.remove(filename)"
   ]
  },
  {
   "cell_type": "code",
   "execution_count": 8,
   "id": "75f6873a",
   "metadata": {},
   "outputs": [],
   "source": [
    "# Function to recognize voice\n",
    "def listen():\n",
    "    recognizer = sr.Recognizer()\n",
    "    with sr.Microphone() as source:\n",
    "        print(\"🎙️ Speak now...\")\n",
    "        audio = recognizer.listen(source)\n",
    "        try:\n",
    "            text = recognizer.recognize_google(audio)\n",
    "            print(f\"📝 You said: {text}\")\n",
    "            return text.lower()\n",
    "        except sr.UnknownValueError:\n",
    "            print(\"Sorry, I could not understand.\")\n",
    "            speak(\"Sorry, I could not understand.\")\n",
    "        except sr.RequestError:\n",
    "            print(\"Network error.\")\n",
    "            speak(\"Network error.\")\n",
    "    return \"\""
   ]
  },
  {
   "cell_type": "code",
   "execution_count": 9,
   "id": "5694034e",
   "metadata": {},
   "outputs": [],
   "source": [
    "# Main Chat Loop\n",
    "def voice_recommender():\n",
    "    speak(\"Hi! I am your voice assistant. What movie do you want recommendations for?\")\n",
    "    query = listen()\n",
    "    query = str(query)\n",
    "    \n",
    "    if query:\n",
    "        print(f\"📝 You said: {query}\")\n",
    "        reply = recommend(query)\n",
    "\n",
    "        if isinstance(reply, str):\n",
    "            print(f\"🤖 Bot: {reply}\")\n",
    "            speak(reply)\n",
    "        else:\n",
    "            titles = reply.tolist()\n",
    "            output = \"Here are some movies you might like: \" + \", \".join(titles)\n",
    "            print(f\"🤖 Bot: {output}\")\n",
    "            speak(output)\n"
   ]
  },
  {
   "cell_type": "code",
   "execution_count": 11,
   "id": "1945c5fa",
   "metadata": {},
   "outputs": [
    {
     "name": "stdout",
     "output_type": "stream",
     "text": [
      "🎙️ Speak now...\n",
      "📝 You said: GST percentage\n",
      "📝 You said: gst percentage\n",
      "🤖 Bot: Movie 'gst percentage' not found in dataset.\n"
     ]
    }
   ],
   "source": [
    "# Run the system\n",
    "voice_recommender()"
   ]
  },
  {
   "cell_type": "code",
   "execution_count": null,
   "id": "0e38ebb6",
   "metadata": {},
   "outputs": [],
   "source": []
  }
 ],
 "metadata": {
  "kernelspec": {
   "display_name": "base",
   "language": "python",
   "name": "python3"
  },
  "language_info": {
   "codemirror_mode": {
    "name": "ipython",
    "version": 3
   },
   "file_extension": ".py",
   "mimetype": "text/x-python",
   "name": "python",
   "nbconvert_exporter": "python",
   "pygments_lexer": "ipython3",
   "version": "3.11.4"
  }
 },
 "nbformat": 4,
 "nbformat_minor": 5
}
